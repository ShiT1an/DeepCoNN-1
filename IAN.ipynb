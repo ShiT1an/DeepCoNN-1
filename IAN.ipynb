{
 "cells": [
  {
   "cell_type": "code",
   "execution_count": 1,
   "metadata": {},
   "outputs": [
    {
     "name": "stderr",
     "output_type": "stream",
     "text": [
      "Using TensorFlow backend.\n"
     ]
    }
   ],
   "source": [
    "# preprocessing imports\n",
    "import pandas as pd\n",
    "import numpy as np\n",
    "from time import time\n",
    "from sklearn.model_selection import train_test_split\n",
    "from keras.preprocessing.text import text_to_word_sequence"
   ]
  },
  {
   "cell_type": "code",
   "execution_count": 2,
   "metadata": {},
   "outputs": [],
   "source": [
    "# functions we implemented\n",
    "from custom_functions import init_embeddings_map, get_embed_and_pad_func, get_embed_aspects"
   ]
  },
  {
   "cell_type": "code",
   "execution_count": 3,
   "metadata": {},
   "outputs": [],
   "source": [
    "emb_size = 50\n",
    "embedding_map = init_embeddings_map(\"glove.6B.\" + str(emb_size) + \"d.txt\")"
   ]
  },
  {
   "cell_type": "code",
   "execution_count": 4,
   "metadata": {},
   "outputs": [],
   "source": [
    "raw_data = pd.read_csv(\"data/unembedded_grouped_cleaned_data.csv\")"
   ]
  },
  {
   "cell_type": "code",
   "execution_count": 5,
   "metadata": {},
   "outputs": [],
   "source": [
    "# Train/test split for our model is unique, we need to hold out a\n",
    "# set of users and movies so that our network never learns those \n",
    "test_size = 0.005\n",
    "\n",
    "# get test_size percentage of users\n",
    "unique_users = raw_data.loc[:, \"reviewerID\"].unique()\n",
    "users_size = len(unique_users)\n",
    "\n",
    "np.random.seed(2019)\n",
    "test_idx = np.random.choice(users_size,\n",
    "                              size=int(users_size * test_size),\n",
    "                              replace=False)\n",
    "\n",
    "# get test users\n",
    "test_users = unique_users[test_idx]\n",
    "\n",
    "# everyone else is a training user\n",
    "train_users = np.delete(unique_users, test_idx)\n",
    "\n",
    "test = raw_data[raw_data[\"reviewerID\"].isin(test_users)]\n",
    "train = raw_data[raw_data[\"reviewerID\"].isin(train_users)]\n",
    "\n",
    "unique_test_movies = test[\"asin\"].unique()\n",
    "\n",
    "# drop the movies that also appear in our test set. In order to be\n",
    "# a true train/test split, we are forced to discard some data entirely\n",
    "train = train.where(np.logical_not(train[\"asin\"].isin(unique_test_movies))).dropna()"
   ]
  },
  {
   "cell_type": "code",
   "execution_count": 6,
   "metadata": {},
   "outputs": [],
   "source": [
    "user_seq_sizes = raw_data.loc[:, \"userReviews\"].apply(lambda x: x.split()).apply(len)\n",
    "item_seq_sizes = raw_data.loc[:, \"movieReviews\"].apply(lambda x: x.split()).apply(len)"
   ]
  },
  {
   "cell_type": "code",
   "execution_count": 7,
   "metadata": {},
   "outputs": [],
   "source": [
    "u_ptile = 40\n",
    "i_ptile = 15\n",
    "u_seq_len = int(np.percentile(user_seq_sizes, u_ptile))\n",
    "i_seq_len = int(np.percentile(item_seq_sizes, i_ptile))"
   ]
  },
  {
   "cell_type": "code",
   "execution_count": 8,
   "metadata": {},
   "outputs": [],
   "source": [
    "embedding_fn = get_embed_and_pad_func(i_seq_len, u_seq_len, np.array([0.0] * emb_size), embedding_map)\n",
    "    \n",
    "train_embedded = train.apply(embedding_fn, axis=1)\n",
    "test_embedded = test.apply(embedding_fn, axis=1)"
   ]
  },
  {
   "cell_type": "markdown",
   "metadata": {},
   "source": [
    "# IAN"
   ]
  },
  {
   "cell_type": "code",
   "execution_count": 9,
   "metadata": {},
   "outputs": [],
   "source": [
    "# modeling imports\n",
    "from keras import regularizers\n",
    "from keras.models import Model\n",
    "from keras.callbacks import EarlyStopping, TensorBoard\n",
    "from keras.layers import LSTM\n",
    "from keras.layers import Input, Dense, Permute, Reshape, RepeatVector, Activation, Lambda, GlobalAveragePooling1D\n",
    "from keras.activations import tanh, softmax\n",
    "from keras.layers.merge import Add, Dot, Concatenate, Multiply\n",
    "from keras.backend import mean\n",
    "from MyLayer import AttentionScore"
   ]
  },
  {
   "cell_type": "code",
   "execution_count": 10,
   "metadata": {},
   "outputs": [],
   "source": [
    "class IAN():\n",
    "    def __init__(self, embedding_size, hidden_size, rnn_hidden_size, u_seq_len, m_seq_len, filters=2, kernel_size=8,\n",
    "                 strides=6):\n",
    "        self.embedding_size = embedding_size\n",
    "        self.hidden_size = hidden_size\n",
    "        self.rnn_hidden_size = rnn_hidden_size\n",
    "        self.filters = filters\n",
    "        self.kernel_size = kernel_size\n",
    "        self.u_seq_len = u_seq_len\n",
    "        self.m_seq_len = m_seq_len\n",
    "        self.inputU, self.lstm_outU, self.mean_lstmoutU = self.create_deepconn_tower(self.u_seq_len)\n",
    "        self.inputM, self.lstm_outM, self.mean_lstmoutM = self.create_deepconn_tower(self.m_seq_len)\n",
    "    \n",
    "    def compute_attention_score(self, h, t, max_seq_len):\n",
    "        score = AttentionScore()([h, t])\n",
    "        alpha = Activation('softmax')(score)\n",
    "        tower = Dot(axes=1)([h, alpha])\n",
    "        return tower\n",
    "        \n",
    "    \n",
    "    def create_deepconn_tower(self, max_seq_len):\n",
    "        input_layer = Input(shape=(max_seq_len, self.embedding_size))\n",
    "        lstm_out = LSTM(self.rnn_hidden_size, activation=\"tanh\", return_sequences=True)(input_layer)\n",
    "        # lstm_out.shape = (None, time_steps, input_dim)\n",
    "        print(lstm_out)\n",
    "        mean_lstm_out = GlobalAveragePooling1D()(lstm_out)\n",
    "        print(mean_lstm_out.shape)\n",
    "        return input_layer, lstm_out, mean_lstm_out\n",
    "\n",
    "    def create_deepconn_dp(self):\n",
    "        towerU = self.compute_attention_score(self.lstm_outU, self.mean_lstmoutM, self.u_seq_len)\n",
    "        towerM = self.compute_attention_score(self.lstm_outM, self.mean_lstmoutU, self.m_seq_len)\n",
    "        output = Concatenate()([towerU, towerM])\n",
    "        output = Dense(1, activation='tanh', use_bias=True, kernel_regularizer=regularizers.l2(0.001))(output)\n",
    "        \n",
    "        dotproduct = Dot(axes=1)([towerU, towerM])\n",
    "        output = Add()([output, dotproduct])\n",
    "        # output = Activation('softmax')(output)\n",
    "        self.model = Model(inputs=[self.inputU, self.inputM], outputs=[output])\n",
    "        self.model.compile(optimizer='Adam', loss='mse')\n",
    "        \n",
    "    def train(self, train_data, batch_size, epochs=3500):\n",
    "        tensorboard = TensorBoard(log_dir=\"tf_logs/{}\".format(time()))\n",
    "        self.create_deepconn_dp()\n",
    "        print(self.model.summary())\n",
    "        \n",
    "        user_reviews = np.array(list(train_data.loc[:, \"userReviews\"]))\n",
    "        movie_reviews = np.array(list(train_data.loc[:, \"movieReviews\"]))\n",
    "       \n",
    "        self.train_inputs = [user_reviews, movie_reviews]\n",
    "        self.train_outputs = train_data.loc[:, \"overall\"]\n",
    "\n",
    "        early_stopping = EarlyStopping(monitor='val_loss', patience=3, mode='min')\n",
    "        self.history = self.model.fit(self.train_inputs,\n",
    "                                      self.train_outputs,\n",
    "                                      callbacks=[tensorboard, early_stopping],\n",
    "                                      validation_split=0.05,\n",
    "                                      batch_size=batch_size,\n",
    "                                      epochs=epochs)\n",
    "        "
   ]
  },
  {
   "cell_type": "code",
   "execution_count": 11,
   "metadata": {
    "scrolled": false
   },
   "outputs": [
    {
     "name": "stdout",
     "output_type": "stream",
     "text": [
      "Tensor(\"lstm_1/transpose_1:0\", shape=(?, ?, 64), dtype=float32)\n",
      "(?, 64)\n",
      "Tensor(\"lstm_2/transpose_1:0\", shape=(?, ?, 64), dtype=float32)\n",
      "(?, 64)\n",
      "AttentionScore input shape:\n",
      " [(None, 318, 64), (None, 64)]\n",
      "AttentionScore input shape:\n",
      " [(None, 329, 64), (None, 64)]\n",
      "__________________________________________________________________________________________________\n",
      "Layer (type)                    Output Shape         Param #     Connected to                     \n",
      "==================================================================================================\n",
      "input_1 (InputLayer)            (None, 318, 50)      0                                            \n",
      "__________________________________________________________________________________________________\n",
      "input_2 (InputLayer)            (None, 329, 50)      0                                            \n",
      "__________________________________________________________________________________________________\n",
      "lstm_1 (LSTM)                   (None, 318, 64)      29440       input_1[0][0]                    \n",
      "__________________________________________________________________________________________________\n",
      "lstm_2 (LSTM)                   (None, 329, 64)      29440       input_2[0][0]                    \n",
      "__________________________________________________________________________________________________\n",
      "global_average_pooling1d_2 (Glo (None, 64)           0           lstm_2[0][0]                     \n",
      "__________________________________________________________________________________________________\n",
      "global_average_pooling1d_1 (Glo (None, 64)           0           lstm_1[0][0]                     \n",
      "__________________________________________________________________________________________________\n",
      "attention_score_1 (AttentionSco (None, 318)          4414        lstm_1[0][0]                     \n",
      "                                                                 global_average_pooling1d_2[0][0] \n",
      "__________________________________________________________________________________________________\n",
      "attention_score_2 (AttentionSco (None, 329)          4425        lstm_2[0][0]                     \n",
      "                                                                 global_average_pooling1d_1[0][0] \n",
      "__________________________________________________________________________________________________\n",
      "activation_1 (Activation)       (None, 318)          0           attention_score_1[0][0]          \n",
      "__________________________________________________________________________________________________\n",
      "activation_2 (Activation)       (None, 329)          0           attention_score_2[0][0]          \n",
      "__________________________________________________________________________________________________\n",
      "dot_1 (Dot)                     (None, 64)           0           lstm_1[0][0]                     \n",
      "                                                                 activation_1[0][0]               \n",
      "__________________________________________________________________________________________________\n",
      "dot_2 (Dot)                     (None, 64)           0           lstm_2[0][0]                     \n",
      "                                                                 activation_2[0][0]               \n",
      "__________________________________________________________________________________________________\n",
      "concatenate_1 (Concatenate)     (None, 128)          0           dot_1[0][0]                      \n",
      "                                                                 dot_2[0][0]                      \n",
      "__________________________________________________________________________________________________\n",
      "dense_1 (Dense)                 (None, 1)            129         concatenate_1[0][0]              \n",
      "__________________________________________________________________________________________________\n",
      "dot_3 (Dot)                     (None, 1)            0           dot_1[0][0]                      \n",
      "                                                                 dot_2[0][0]                      \n",
      "__________________________________________________________________________________________________\n",
      "add_1 (Add)                     (None, 1)            0           dense_1[0][0]                    \n",
      "                                                                 dot_3[0][0]                      \n",
      "==================================================================================================\n",
      "Total params: 67,848\n",
      "Trainable params: 67,848\n",
      "Non-trainable params: 0\n",
      "__________________________________________________________________________________________________\n",
      "None\n",
      "Train on 17081 samples, validate on 900 samples\n",
      "Epoch 1/10\n",
      "17081/17081 [==============================] - 290s 17ms/step - loss: 1.6205 - val_loss: 0.8825\n",
      "Epoch 2/10\n",
      "17081/17081 [==============================] - 284s 17ms/step - loss: 0.9202 - val_loss: 0.9320\n",
      "Epoch 3/10\n",
      "17081/17081 [==============================] - 289s 17ms/step - loss: 0.9112 - val_loss: 0.9005\n",
      "Epoch 4/10\n",
      "17081/17081 [==============================] - 292s 17ms/step - loss: 0.9103 - val_loss: 0.9106\n",
      "Epoch 5/10\n",
      "17081/17081 [==============================] - 292s 17ms/step - loss: 0.9072 - val_loss: 0.9237\n",
      "Epoch 6/10\n",
      "17081/17081 [==============================] - 289s 17ms/step - loss: 0.9076 - val_loss: 0.8847\n",
      "Epoch 7/10\n",
      "17081/17081 [==============================] - 288s 17ms/step - loss: 0.9070 - val_loss: 0.8833\n",
      "Epoch 8/10\n",
      "17081/17081 [==============================] - 285s 17ms/step - loss: 0.9077 - val_loss: 0.8987\n",
      "Epoch 9/10\n",
      "17081/17081 [==============================] - 286s 17ms/step - loss: 0.9052 - val_loss: 0.8784\n",
      "Epoch 10/10\n",
      "17081/17081 [==============================] - 286s 17ms/step - loss: 0.9058 - val_loss: 0.8905\n"
     ]
    }
   ],
   "source": [
    "hidden_size = 64\n",
    "rnn_hidden_size = 64\n",
    "ian = IAN(emb_size, hidden_size, rnn_hidden_size, u_seq_len, i_seq_len)\n",
    "\n",
    "batch_size = 32\n",
    "ian.train(train_embedded, batch_size, epochs=20)\n",
    "\n",
    "ian.model.save(\"lstm.h5\")"
   ]
  },
  {
   "cell_type": "code",
   "execution_count": 12,
   "metadata": {},
   "outputs": [
    {
     "name": "stdout",
     "output_type": "stream",
     "text": [
      "MSE: 0.931364871244\n"
     ]
    }
   ],
   "source": [
    "user_reviews = np.array(list(test_embedded.loc[:, \"userReviews\"]))\n",
    "movie_reviews = np.array(list(test_embedded.loc[:, \"movieReviews\"]))\n",
    "\n",
    "test_inputs = [user_reviews, movie_reviews]\n",
    "\n",
    "dat = pd.DataFrame(test_inputs)\n",
    "dat.to_csv(\"data/test_data.csv\")\n",
    "\n",
    "true_rating = np.array(list(test_embedded.loc[:, \"overall\"])).reshape((-1, 1))\n",
    "\n",
    "predictions = ian.model.predict(test_inputs)\n",
    "\n",
    "error = np.square(predictions - true_rating)\n",
    "\n",
    "print(\"MSE:\", np.average(error))"
   ]
  },
  {
   "cell_type": "code",
   "execution_count": 13,
   "metadata": {},
   "outputs": [],
   "source": [
    "#检查对于softmax的使用"
   ]
  },
  {
   "cell_type": "markdown",
   "metadata": {},
   "source": []
  }
 ],
 "metadata": {
  "kernelspec": {
   "display_name": "Python 3",
   "language": "python",
   "name": "python3"
  },
  "language_info": {
   "codemirror_mode": {
    "name": "ipython",
    "version": 3
   },
   "file_extension": ".py",
   "mimetype": "text/x-python",
   "name": "python",
   "nbconvert_exporter": "python",
   "pygments_lexer": "ipython3",
   "version": "3.6.5"
  }
 },
 "nbformat": 4,
 "nbformat_minor": 2
}
