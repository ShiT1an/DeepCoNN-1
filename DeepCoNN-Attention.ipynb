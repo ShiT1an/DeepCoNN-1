{
 "cells": [
  {
   "cell_type": "code",
   "execution_count": 1,
   "metadata": {},
   "outputs": [
    {
     "name": "stderr",
     "output_type": "stream",
     "text": [
      "Using TensorFlow backend.\n"
     ]
    }
   ],
   "source": [
    "# preprocessing imports\n",
    "import pandas as pd\n",
    "import numpy as np\n",
    "from time import time\n",
    "from sklearn.model_selection import train_test_split\n",
    "from keras.preprocessing.text import text_to_word_sequence"
   ]
  },
  {
   "cell_type": "code",
   "execution_count": 2,
   "metadata": {},
   "outputs": [],
   "source": [
    "# functions we implemented\n",
    "from custom_functions import init_embeddings_map, get_embed_and_pad_func, get_embed_aspects"
   ]
  },
  {
   "cell_type": "code",
   "execution_count": 3,
   "metadata": {},
   "outputs": [],
   "source": [
    "emb_size = 50\n",
    "embedding_map = init_embeddings_map(\"glove.6B.\" + str(emb_size) + \"d.txt\")"
   ]
  },
  {
   "cell_type": "code",
   "execution_count": 4,
   "metadata": {},
   "outputs": [],
   "source": [
    "raw_data = pd.read_csv(\"data/unembedded_grouped_cleaned_data.csv\")"
   ]
  },
  {
   "cell_type": "code",
   "execution_count": 5,
   "metadata": {},
   "outputs": [],
   "source": [
    "# Train/test split for our model is unique, we need to hold out a\n",
    "# set of users and movies so that our network never learns those \n",
    "test_size = 0.005\n",
    "\n",
    "# get test_size percentage of users\n",
    "unique_users = raw_data.loc[:, \"reviewerID\"].unique()\n",
    "users_size = len(unique_users)\n",
    "\n",
    "np.random.seed(2019)\n",
    "test_idx = np.random.choice(users_size,\n",
    "                              size=int(users_size * test_size),\n",
    "                              replace=False)\n",
    "\n",
    "# get test users\n",
    "test_users = unique_users[test_idx]\n",
    "\n",
    "# everyone else is a training user\n",
    "train_users = np.delete(unique_users, test_idx)\n",
    "\n",
    "test = raw_data[raw_data[\"reviewerID\"].isin(test_users)]\n",
    "train = raw_data[raw_data[\"reviewerID\"].isin(train_users)]\n",
    "\n",
    "unique_test_movies = test[\"asin\"].unique()\n",
    "\n",
    "# drop the movies that also appear in our test set. In order to be\n",
    "# a true train/test split, we are forced to discard some data entirely\n",
    "train = train.where(np.logical_not(train[\"asin\"].isin(unique_test_movies))).dropna()"
   ]
  },
  {
   "cell_type": "code",
   "execution_count": 6,
   "metadata": {},
   "outputs": [],
   "source": [
    "user_seq_sizes = raw_data.loc[:, \"userReviews\"].apply(lambda x: x.split()).apply(len)\n",
    "item_seq_sizes = raw_data.loc[:, \"movieReviews\"].apply(lambda x: x.split()).apply(len)"
   ]
  },
  {
   "cell_type": "code",
   "execution_count": 7,
   "metadata": {},
   "outputs": [],
   "source": [
    "u_ptile = 40\n",
    "i_ptile = 15\n",
    "u_seq_len = int(np.percentile(user_seq_sizes, u_ptile))\n",
    "i_seq_len = int(np.percentile(item_seq_sizes, i_ptile))"
   ]
  },
  {
   "cell_type": "code",
   "execution_count": 8,
   "metadata": {},
   "outputs": [],
   "source": [
    "embedding_fn = get_embed_and_pad_func(i_seq_len, u_seq_len, np.array([0.0] * emb_size), embedding_map)\n",
    "    \n",
    "train_embedded = train.apply(embedding_fn, axis=1)\n",
    "test_embedded = test.apply(embedding_fn, axis=1)"
   ]
  },
  {
   "cell_type": "markdown",
   "metadata": {},
   "source": [
    "Aspects 超参数设置 与 Embedding映射"
   ]
  },
  {
   "cell_type": "code",
   "execution_count": 9,
   "metadata": {
    "scrolled": true
   },
   "outputs": [
    {
     "name": "stdout",
     "output_type": "stream",
     "text": [
      "[array([ -4.52800006e-01,   3.63720000e-01,   7.07729995e-01,\n",
      "         1.09920001e+00,  -5.42940021e-01,  -1.61909997e-01,\n",
      "        -9.53480005e-01,  -9.84109998e-01,   3.60760003e-01,\n",
      "         2.80660000e-02,   9.21580017e-01,  -2.78510004e-01,\n",
      "        -1.04789996e+00,   2.23030001e-01,  -3.21449995e-01,\n",
      "         2.94600010e-01,  -6.24750018e-01,   1.64789999e+00,\n",
      "         6.09340012e-01,  -1.32570004e+00,   1.22860003e+00,\n",
      "        -9.72049981e-02,  -1.43669999e+00,  -1.67089999e-01,\n",
      "        -2.60600001e-01,  -3.38979989e-01,  -1.29550004e+00,\n",
      "        -2.67210007e-01,  -3.35119992e-01,   7.08060026e-01,\n",
      "         1.57249999e+00,  -1.07469998e-01,   7.07840025e-01,\n",
      "        -1.13520003e-03,   4.62240010e-01,  -1.16499998e-01,\n",
      "        -6.08889997e-01,   8.89509976e-01,   9.86859977e-01,\n",
      "         7.75829971e-01,   1.52759999e-01,  -3.14969987e-01,\n",
      "         2.84020007e-01,  -5.52079976e-01,   7.56479979e-01,\n",
      "         4.37229991e-01,  -1.11440003e-01,   1.27540004e+00,\n",
      "        -1.35409996e-01,   1.87790006e-01], dtype=float32)]\n"
     ]
    }
   ],
   "source": [
    "aspects = ['automotive']\n",
    "embed_aspects = get_embed_aspects(aspects, embedding_map)\n",
    "print(embed_aspects)"
   ]
  },
  {
   "cell_type": "markdown",
   "metadata": {},
   "source": [
    "粘贴来的one_step_of_attention"
   ]
  },
  {
   "cell_type": "markdown",
   "metadata": {},
   "source": [
    "# Define part of the attention layer gloablly so as to\n",
    "# share the same layers for each attention step.\n",
    "def softmax(x):\n",
    "    return K.softmax(x, axis=1)\n",
    "\n",
    "at_repeat = RepeatVector(Tx)\n",
    "at_concatenate = Concatenate(axis=-1)\n",
    "at_dense1 = Dense(8, activation=\"tanh\")\n",
    "at_dense2 = Dense(1, activation=\"relu\")\n",
    "at_softmax = Activation(softmax, name='attention_weights')\n",
    "at_dot = Dot(axes=1)\n",
    "\n",
    "def one_step_of_attention(h_prev, a):\n",
    "    \"\"\"\n",
    "    Get the context.\n",
    "    \n",
    "    Input:\n",
    "    h_prev - Previous hidden state of a RNN layer (m, n_h)\n",
    "    a - Input data, possibly processed (m, Tx, n_a)\n",
    "    \n",
    "    Output:\n",
    "    context - Current context (m, Tx, n_a)\n",
    "    \"\"\"\n",
    "    # Repeat vector to match a's dimensions\n",
    "    h_repeat = at_repeat(h_prev)\n",
    "    # Calculate attention weights\n",
    "    i = at_concatenate([a, h_repeat])\n",
    "    i = at_dense1(i)\n",
    "    i = at_dense2(i)\n",
    "    attention = at_softmax(i)\n",
    "    # Calculate the context\n",
    "    context = at_dot([attention, a])\n",
    "    \n",
    "    return context"
   ]
  },
  {
   "cell_type": "markdown",
   "metadata": {},
   "source": [
    "# DeepCoNN Recommendation Model"
   ]
  },
  {
   "cell_type": "code",
   "execution_count": 10,
   "metadata": {},
   "outputs": [],
   "source": [
    "# modeling imports\n",
    "from keras.models import Model\n",
    "from keras.callbacks import EarlyStopping, TensorBoard\n",
    "from keras.layers import LSTM\n",
    "from keras.layers import Input, Dense, Permute, Reshape, RepeatVector, Activation, Lambda\n",
    "from keras.activations import tanh, softmax\n",
    "from keras.layers.merge import Add, Dot, Concatenate, Multiply\n",
    "from WeightedAdd import WeightedAdd"
   ]
  },
  {
   "cell_type": "code",
   "execution_count": 11,
   "metadata": {},
   "outputs": [],
   "source": [
    "class DeepCoNN():\n",
    "    def __init__(self, embedding_size, hidden_size, rnn_hidden_size, u_seq_len, m_seq_len, filters=2, kernel_size=8,\n",
    "                 strides=6):\n",
    "        self.embedding_size = embedding_size\n",
    "        self.hidden_size = hidden_size\n",
    "        self.rnn_hidden_size = rnn_hidden_size\n",
    "        self.filters = filters\n",
    "        self.kernel_size = kernel_size\n",
    "        self.embed_aspects = Input(shape=(self.embedding_size,))\n",
    "        self.inputU, self.towerU = self.create_deepconn_tower(u_seq_len)\n",
    "        self.inputM, self.towerM = self.create_deepconn_tower(m_seq_len)\n",
    "        self.joined = Concatenate()([self.towerU, self.towerM])\n",
    "        self.outNeuron = Dense(1)(self.joined)\n",
    "    \n",
    "    def aspect_attention_block(self, input_layer, max_seq_len, embed_aspect_repeat):\n",
    "        lstm_out = LSTM(self.rnn_hidden_size, activation=\"tanh\", return_sequences=True)(input_layer)\n",
    "        # lstm_out.shape = (None, time_steps, input_dim)\n",
    "        wh = Dense(int(lstm_out.shape[2]))(lstm_out)\n",
    "        wv = Dense(self.embedding_size)(embed_aspect_repeat)\n",
    "        m = Concatenate(axis=-1)([wh, wv])\n",
    "        m = Activation(tanh)(m)\n",
    "        \n",
    "        a_probs = Dense(1, activation=\"softmax\")(m)\n",
    "        # name='attention_vec'\n",
    "        output_attention_mul = Dot(axes=1)([lstm_out, a_probs])\n",
    "        # name='attention_mul'\n",
    "        \n",
    "        lstm_last_output = Lambda(lambda x: x[:, -1])(lstm_out)\n",
    "        lstm_last_output = Reshape((self.rnn_hidden_size, 1))(lstm_last_output)\n",
    "        h_ = Concatenate(axis=-1)([output_attention_mul, lstm_last_output])\n",
    "        h_ = WeightedAdd(1)(h_)\n",
    "        h_ = Reshape((self.rnn_hidden_size,))(h_)\n",
    "        \n",
    "        return h_\n",
    "        \n",
    "    def create_deepconn_tower(self, max_seq_len):\n",
    "        input_layer = Input(shape=(max_seq_len, self.embedding_size))\n",
    "        embed_aspect_repeat = RepeatVector(max_seq_len)(self.embed_aspects)\n",
    "        \n",
    "        lstm_inputs = Concatenate(axis=-1)([input_layer, embed_aspect_repeat])\n",
    "        tower = self.aspect_attention_block(lstm_inputs, max_seq_len, embed_aspect_repeat)\n",
    "        \n",
    "        tower = Dense(self.hidden_size, activation=\"relu\")(tower)\n",
    "        return input_layer, tower\n",
    "\n",
    "    def create_deepconn_dp(self):\n",
    "        dotproduct = Dot(axes=1)([self.towerU, self.towerM])\n",
    "        output = Add()([self.outNeuron, dotproduct])\n",
    "        self.model = Model(inputs=[self.embed_aspects, self.inputU, self.inputM], outputs=[output])\n",
    "        self.model.compile(optimizer='Adam', loss='mse')\n",
    "        \n",
    "    def train(self, train_data, embed_aspects, batch_size, epochs=3500):\n",
    "        tensorboard = TensorBoard(log_dir=\"tf_logs/{}\".format(time()))\n",
    "        self.create_deepconn_dp()\n",
    "        print(self.model.summary())\n",
    "        \n",
    "        user_reviews = np.array(list(train_data.loc[:, \"userReviews\"]))\n",
    "        movie_reviews = np.array(list(train_data.loc[:, \"movieReviews\"]))\n",
    "        print(user_reviews.shape)\n",
    "        # 将aspects扩充至训练集的大小\n",
    "        # embed_aspects = np.expand_dims(embed_aspects, axis=0)\n",
    "        embed_aspects = np.repeat(embed_aspects, user_reviews.shape[0], axis=0)\n",
    "        print(embed_aspects.shape)\n",
    "\n",
    "        self.train_inputs = [embed_aspects, user_reviews, movie_reviews]\n",
    "        self.train_outputs = train_data.loc[:, \"overall\"]\n",
    "\n",
    "        self.history = self.model.fit(self.train_inputs,\n",
    "                                      self.train_outputs,\n",
    "                                      callbacks=[tensorboard],\n",
    "                                      validation_split=0.05,\n",
    "                                      batch_size=batch_size,\n",
    "                                      epochs=epochs)\n",
    "        "
   ]
  },
  {
   "cell_type": "code",
   "execution_count": 14,
   "metadata": {
    "scrolled": true
   },
   "outputs": [
    {
     "name": "stdout",
     "output_type": "stream",
     "text": [
      "(?, 64, 2) (2, 1)\n",
      "(?, 64, 2) (2, 1)\n",
      "__________________________________________________________________________________________________\n",
      "Layer (type)                    Output Shape         Param #     Connected to                     \n",
      "==================================================================================================\n",
      "input_4 (InputLayer)            (None, 50)           0                                            \n",
      "__________________________________________________________________________________________________\n",
      "input_5 (InputLayer)            (None, 318, 50)      0                                            \n",
      "__________________________________________________________________________________________________\n",
      "repeat_vector_3 (RepeatVector)  (None, 318, 50)      0           input_4[0][0]                    \n",
      "__________________________________________________________________________________________________\n",
      "input_6 (InputLayer)            (None, 329, 50)      0                                            \n",
      "__________________________________________________________________________________________________\n",
      "repeat_vector_4 (RepeatVector)  (None, 329, 50)      0           input_4[0][0]                    \n",
      "__________________________________________________________________________________________________\n",
      "concatenate_8 (Concatenate)     (None, 318, 100)     0           input_5[0][0]                    \n",
      "                                                                 repeat_vector_3[0][0]            \n",
      "__________________________________________________________________________________________________\n",
      "concatenate_11 (Concatenate)    (None, 329, 100)     0           input_6[0][0]                    \n",
      "                                                                 repeat_vector_4[0][0]            \n",
      "__________________________________________________________________________________________________\n",
      "lstm_3 (LSTM)                   (None, 318, 64)      42240       concatenate_8[0][0]              \n",
      "__________________________________________________________________________________________________\n",
      "lstm_4 (LSTM)                   (None, 329, 64)      42240       concatenate_11[0][0]             \n",
      "__________________________________________________________________________________________________\n",
      "dense_10 (Dense)                (None, 318, 64)      4160        lstm_3[0][0]                     \n",
      "__________________________________________________________________________________________________\n",
      "dense_11 (Dense)                (None, 318, 50)      2550        repeat_vector_3[0][0]            \n",
      "__________________________________________________________________________________________________\n",
      "dense_14 (Dense)                (None, 329, 64)      4160        lstm_4[0][0]                     \n",
      "__________________________________________________________________________________________________\n",
      "dense_15 (Dense)                (None, 329, 50)      2550        repeat_vector_4[0][0]            \n",
      "__________________________________________________________________________________________________\n",
      "concatenate_9 (Concatenate)     (None, 318, 114)     0           dense_10[0][0]                   \n",
      "                                                                 dense_11[0][0]                   \n",
      "__________________________________________________________________________________________________\n",
      "concatenate_12 (Concatenate)    (None, 329, 114)     0           dense_14[0][0]                   \n",
      "                                                                 dense_15[0][0]                   \n",
      "__________________________________________________________________________________________________\n",
      "activation_3 (Activation)       (None, 318, 114)     0           concatenate_9[0][0]              \n",
      "__________________________________________________________________________________________________\n",
      "activation_4 (Activation)       (None, 329, 114)     0           concatenate_12[0][0]             \n",
      "__________________________________________________________________________________________________\n",
      "dense_12 (Dense)                (None, 318, 1)       115         activation_3[0][0]               \n",
      "__________________________________________________________________________________________________\n",
      "lambda_3 (Lambda)               (None, 64)           0           lstm_3[0][0]                     \n",
      "__________________________________________________________________________________________________\n",
      "dense_16 (Dense)                (None, 329, 1)       115         activation_4[0][0]               \n",
      "__________________________________________________________________________________________________\n",
      "lambda_4 (Lambda)               (None, 64)           0           lstm_4[0][0]                     \n",
      "__________________________________________________________________________________________________\n",
      "dot_4 (Dot)                     (None, 64, 1)        0           lstm_3[0][0]                     \n",
      "                                                                 dense_12[0][0]                   \n",
      "__________________________________________________________________________________________________\n",
      "reshape_5 (Reshape)             (None, 64, 1)        0           lambda_3[0][0]                   \n",
      "__________________________________________________________________________________________________\n",
      "dot_5 (Dot)                     (None, 64, 1)        0           lstm_4[0][0]                     \n",
      "                                                                 dense_16[0][0]                   \n",
      "__________________________________________________________________________________________________\n",
      "reshape_7 (Reshape)             (None, 64, 1)        0           lambda_4[0][0]                   \n",
      "__________________________________________________________________________________________________\n",
      "concatenate_10 (Concatenate)    (None, 64, 2)        0           dot_4[0][0]                      \n",
      "                                                                 reshape_5[0][0]                  \n",
      "__________________________________________________________________________________________________\n",
      "concatenate_13 (Concatenate)    (None, 64, 2)        0           dot_5[0][0]                      \n",
      "                                                                 reshape_7[0][0]                  \n",
      "__________________________________________________________________________________________________\n",
      "weighted_add_3 (WeightedAdd)    (None, 64, 1)        2           concatenate_10[0][0]             \n",
      "__________________________________________________________________________________________________\n",
      "weighted_add_4 (WeightedAdd)    (None, 64, 1)        2           concatenate_13[0][0]             \n",
      "__________________________________________________________________________________________________\n",
      "reshape_6 (Reshape)             (None, 64)           0           weighted_add_3[0][0]             \n",
      "__________________________________________________________________________________________________\n",
      "reshape_8 (Reshape)             (None, 64)           0           weighted_add_4[0][0]             \n",
      "__________________________________________________________________________________________________\n",
      "dense_13 (Dense)                (None, 64)           4160        reshape_6[0][0]                  \n",
      "__________________________________________________________________________________________________\n",
      "dense_17 (Dense)                (None, 64)           4160        reshape_8[0][0]                  \n",
      "__________________________________________________________________________________________________\n",
      "concatenate_14 (Concatenate)    (None, 128)          0           dense_13[0][0]                   \n",
      "                                                                 dense_17[0][0]                   \n",
      "__________________________________________________________________________________________________\n",
      "dense_18 (Dense)                (None, 1)            129         concatenate_14[0][0]             \n",
      "__________________________________________________________________________________________________\n",
      "dot_6 (Dot)                     (None, 1)            0           dense_13[0][0]                   \n",
      "                                                                 dense_17[0][0]                   \n",
      "__________________________________________________________________________________________________\n",
      "add_2 (Add)                     (None, 1)            0           dense_18[0][0]                   \n",
      "                                                                 dot_6[0][0]                      \n",
      "==================================================================================================\n",
      "Total params: 106,583\n",
      "Trainable params: 106,583\n",
      "Non-trainable params: 0\n",
      "__________________________________________________________________________________________________\n",
      "None\n",
      "(17981, 318, 50)\n",
      "(17981, 50)\n"
     ]
    },
    {
     "name": "stdout",
     "output_type": "stream",
     "text": [
      "Train on 17081 samples, validate on 900 samples\n",
      "Epoch 1/5\n",
      "17081/17081 [==============================] - 343s 20ms/step - loss: 3.4818 - val_loss: 0.8896\n",
      "Epoch 2/5\n",
      "17081/17081 [==============================] - 344s 20ms/step - loss: 0.9824 - val_loss: 0.9186\n",
      "Epoch 3/5\n",
      "17081/17081 [==============================] - 345s 20ms/step - loss: 0.9593 - val_loss: 0.8884\n",
      "Epoch 4/5\n",
      "17081/17081 [==============================] - 358s 21ms/step - loss: 0.9412 - val_loss: 0.8793\n",
      "Epoch 5/5\n",
      "17081/17081 [==============================] - 347s 20ms/step - loss: 0.9288 - val_loss: 0.8824\n"
     ]
    }
   ],
   "source": [
    "hidden_size = 64\n",
    "rnn_hidden_size = 64\n",
    "deepconn = DeepCoNN(emb_size, hidden_size, rnn_hidden_size, u_seq_len, i_seq_len, embed_aspects)\n",
    "\n",
    "batch_size = 32\n",
    "deepconn.train(train_embedded, embed_aspects, batch_size, epochs=10)\n",
    "\n",
    "deepconn.model.save(\"lstm.h5\")"
   ]
  },
  {
   "cell_type": "code",
   "execution_count": 15,
   "metadata": {},
   "outputs": [
    {
     "name": "stdout",
     "output_type": "stream",
     "text": [
      "MSE: 0.972079554265\n"
     ]
    }
   ],
   "source": [
    "user_reviews = np.array(list(test_embedded.loc[:, \"userReviews\"]))\n",
    "movie_reviews = np.array(list(test_embedded.loc[:, \"movieReviews\"]))\n",
    "\n",
    "test_embed_aspects = np.repeat(embed_aspects, user_reviews.shape[0], axis=0)\n",
    "\n",
    "test_inputs = [test_embed_aspects, user_reviews, movie_reviews]\n",
    "\n",
    "dat = pd.DataFrame(test_inputs)\n",
    "dat.to_csv(\"data/test_data.csv\")\n",
    "\n",
    "true_rating = np.array(list(test_embedded.loc[:, \"overall\"])).reshape((-1, 1))\n",
    "\n",
    "predictions = deepconn.model.predict(test_inputs)\n",
    "\n",
    "error = np.square(predictions - true_rating)\n",
    "\n",
    "print(\"MSE:\", np.average(error))"
   ]
  },
  {
   "cell_type": "markdown",
   "metadata": {},
   "source": []
  }
 ],
 "metadata": {
  "kernelspec": {
   "display_name": "Python 3",
   "language": "python",
   "name": "python3"
  },
  "language_info": {
   "codemirror_mode": {
    "name": "ipython",
    "version": 3
   },
   "file_extension": ".py",
   "mimetype": "text/x-python",
   "name": "python",
   "nbconvert_exporter": "python",
   "pygments_lexer": "ipython3",
   "version": "3.6.5"
  }
 },
 "nbformat": 4,
 "nbformat_minor": 2
}
