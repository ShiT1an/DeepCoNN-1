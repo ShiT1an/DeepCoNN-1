{
 "cells": [
  {
   "cell_type": "markdown",
   "metadata": {},
   "source": [
    "处理用于 aspect level sentiment classification 的 laptop 和 restaurant 数据"
   ]
  },
  {
   "cell_type": "code",
   "execution_count": 1,
   "metadata": {},
   "outputs": [
    {
     "name": "stderr",
     "output_type": "stream",
     "text": [
      "Using TensorFlow backend.\n"
     ]
    }
   ],
   "source": [
    "import os\n",
    "import xml.etree.ElementTree as ET\n",
    "import pandas as pd\n",
    "from keras.preprocessing.text import text_to_word_sequence"
   ]
  },
  {
   "cell_type": "code",
   "execution_count": 2,
   "metadata": {},
   "outputs": [],
   "source": [
    "def clean(text):\n",
    "    return text_to_word_sequence(text,\n",
    "                                 filters='!\"#$%&()*+,-./:;<=>?@[\\\\]^_`{|}~\\t\\n',\n",
    "                                 lower=True, split=\" \")"
   ]
  },
  {
   "cell_type": "code",
   "execution_count": 3,
   "metadata": {},
   "outputs": [],
   "source": [
    "def do_process(input_frame, output_frame):\n",
    "    with open(output_frame, 'w') as f:\n",
    "        tree = ET.parse(input_frame)\n",
    "        root = tree.getroot()\n",
    "        sentence_num = 0\n",
    "        aspect_num = 0\n",
    "        data_dict = {\n",
    "            'polarity': [],\n",
    "            'aspect_term': [],\n",
    "            'review_text': []\n",
    "        }\n",
    "        polarity_dict = {\n",
    "            'positive': 0,\n",
    "            'neutral': 1,\n",
    "            'negative': 2\n",
    "        }\n",
    "        for sentence in root.iter('sentence'):\n",
    "            sentence_num = sentence_num + 1\n",
    "            text = sentence.find('text').text\n",
    "            for asp_terms in sentence.iter('aspectTerms'):\n",
    "                for asp_term in asp_terms.findall('aspectTerm'):\n",
    "                    if asp_term.get('polarity') != 'conflict' and asp_term.get('term') != None:\n",
    "                        aspect_num = aspect_num + 1\n",
    "                        new_text = ''.join((text[:int(asp_term.get('from'))], 'aspect_term', text[int(asp_term.get('to')):]))\n",
    "                        data_dict['review_text'].append(clean(new_text.strip()))\n",
    "                        data_dict['aspect_term'].append(clean(asp_term.get('term')))\n",
    "                        data_dict['polarity'].append(polarity_dict[asp_term.get('polarity')])\n",
    "        print(\"Read %s sentences %s aspects\" % (sentence_num, aspect_num))\n",
    "        data = pd.DataFrame(data_dict)\n",
    "        data.to_csv(output_frame)"
   ]
  },
  {
   "cell_type": "code",
   "execution_count": 4,
   "metadata": {},
   "outputs": [],
   "source": [
    "input_frame1 = '../new_data/restaurant/train.xml'\n",
    "output_frame1 = '../new_data/restaurant/train.csv'\n",
    "\n",
    "input_frame2 = '../new_data/restaurant/test.xml'\n",
    "output_frame2 = '../new_data/restaurant/test.csv'\n",
    "\n",
    "input_frame3 = '../new_data/laptop/train.xml'\n",
    "output_frame3 = '../new_data/laptop/train.csv'\n",
    "\n",
    "input_frame4 = '../new_data/laptop/test.xml'\n",
    "output_frame4 = '../new_data/laptop/test.csv'"
   ]
  },
  {
   "cell_type": "code",
   "execution_count": 6,
   "metadata": {},
   "outputs": [
    {
     "name": "stdout",
     "output_type": "stream",
     "text": [
      "Read 3044 sentences 3608 aspects\n"
     ]
    }
   ],
   "source": [
    "do_process(input_frame1, output_frame1)"
   ]
  },
  {
   "cell_type": "code",
   "execution_count": null,
   "metadata": {},
   "outputs": [],
   "source": []
  }
 ],
 "metadata": {
  "kernelspec": {
   "display_name": "Python 3",
   "language": "python",
   "name": "python3"
  },
  "language_info": {
   "codemirror_mode": {
    "name": "ipython",
    "version": 3
   },
   "file_extension": ".py",
   "mimetype": "text/x-python",
   "name": "python",
   "nbconvert_exporter": "python",
   "pygments_lexer": "ipython3",
   "version": "3.6.5"
  }
 },
 "nbformat": 4,
 "nbformat_minor": 2
}
